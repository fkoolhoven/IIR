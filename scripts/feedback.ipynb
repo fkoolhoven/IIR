{
 "cells": [
  {
   "cell_type": "markdown",
   "id": "36f4db71-1463-4a0e-882f-6c2dd6a3da8e",
   "metadata": {},
   "source": [
    "### First Order Feedback Filter"
   ]
  },
  {
   "cell_type": "code",
   "execution_count": 1,
   "id": "8675d531-8b64-44b7-a59b-7c4139472b0b",
   "metadata": {},
   "outputs": [
    {
     "data": {
      "application/vnd.jupyter.widget-view+json": {
       "model_id": "8a358bc6384d4bc9ad4a23b079e543e5",
       "version_major": 2,
       "version_minor": 0
      },
      "text/plain": [
       "interactive(children=(FloatSlider(value=0.8, description='b1', max=1.0, min=-1.0, step=0.01), Output()), _dom_…"
      ]
     },
     "metadata": {},
     "output_type": "display_data"
    }
   ],
   "source": [
    "import numpy as np\n",
    "import matplotlib.pyplot as plt\n",
    "import ipywidgets as widgets\n",
    "\n",
    "frameSize = 2048\n",
    "\n",
    "# x: input signal (impulse)\n",
    "# a0: filter coefficient (forward path)\n",
    "# b1: filter coefficient (backward path)\n",
    "def feedbackFilter(x, a0, b1, delay):\n",
    "    y = np.zeros(x.size)\n",
    "    for n in range(0, x.size):\n",
    "        y[n] = a0 * x[n] - b1 * y[n-delay]\n",
    "    return y\n",
    "\n",
    "# impulse signal\n",
    "impulse = np.zeros(frameSize)\n",
    "impulse[0] = 1\n",
    "\n",
    "@widgets.interact(b1=widgets.FloatSlider(min=-1.0, max=1.0, step=0.01, value=0.8))\n",
    "def execute(b1=0.8):\n",
    "\n",
    "    # get the impulse response of the filter\n",
    "    impulseResponse = feedbackFilter(impulse, 1.0, b1, 1)\n",
    "\n",
    "    # setup the plot\n",
    "    _, axes = plt.subplots(1, 2, figsize=(16,6))\n",
    "\n",
    "    # plot the impulse signal\n",
    "    ax = axes[0]\n",
    "    ax.plot(impulse, 'bo-')\n",
    "    ax.set_xlabel('Sample count')\n",
    "    ax.set_ylabel('Amplitude')\n",
    "    ax.set_ylim(-0.1, 1.1)\n",
    "    ax.set_xlim(-0.5, 10)\n",
    "    ax.set_title(\"Impulse\")\n",
    "    ax.grid(which='both', axis='both')\n",
    "\n",
    "    # plot the impulse response\n",
    "    ax = axes[1]\n",
    "    ax.plot(impulseResponse, 'ro-')\n",
    "    ax.set_xlabel('Sample count')\n",
    "    ax.set_ylim(-1.1, 1.1)\n",
    "    ax.set_xlim(-0.5, 50)\n",
    "    ax.set_title(\"Impulse Response\")\n",
    "    ax.grid(which='both', axis='both')\n",
    "\n",
    "    plt.show"
   ]
  },
  {
   "cell_type": "markdown",
   "id": "585e75c4-9136-4519-a14d-4abfa5af05a2",
   "metadata": {},
   "source": [
    "We can then perform a Fourier transform on the impulse signal. This will give us an array of complex numbers which is stored in spectrum. Extracting the magnitudes of the complex numbers and plotting them will give us a frequency response plot, and extracting the angles will give us a phase response plot"
   ]
  },
  {
   "cell_type": "code",
   "execution_count": 2,
   "id": "39ad1dc1-15fe-4631-85cf-83476a4c4ea0",
   "metadata": {},
   "outputs": [
    {
     "data": {
      "application/vnd.jupyter.widget-view+json": {
       "model_id": "318c535e2c1d4aa2a5f757d603ebba70",
       "version_major": 2,
       "version_minor": 0
      },
      "text/plain": [
       "interactive(children=(FloatSlider(value=0.8, description='b1', max=1.0, min=-1.0, step=0.001), Output()), _dom…"
      ]
     },
     "metadata": {},
     "output_type": "display_data"
    }
   ],
   "source": [
    "from scipy.fftpack import fft\n",
    "\n",
    "@widgets.interact(b1=widgets.FloatSlider(min=-1.0, max=1.0, step=0.001, value=0.8))\n",
    "def execute(b1=0.8):\n",
    "\n",
    "    # fft returns an array of complex numbers representing the frequency components of the input signal, more info: https://docs.scipy.org/doc/scipy/tutorial/fft.html\n",
    "    spectrum = fft(feedbackFilter(impulse, 1.0, b1, 1))\n",
    "\n",
    "    # get the frequency components\n",
    "    x = np.linspace(0, 0.5, spectrum.size//2)\n",
    "\n",
    "    # setup the plot\n",
    "    fig, axes = plt.subplots(1, 2, figsize=(16,6))\n",
    "\n",
    "    # get the amplitude of the frequency components\n",
    "    with np.errstate(divide='ignore'):\n",
    "        y = (20 * np.log10(np.abs(spectrum)))[:spectrum.size//2]\n",
    "\n",
    "    # plot the frequency response\n",
    "    ax = axes[0]\n",
    "    ax.plot(x, y, 'b')\n",
    "    #ax.set_xscale('log')\n",
    "    ax.set_xlabel('Normalized frequency')\n",
    "    ax.set_ylabel('Amplitude (dB)')\n",
    "    ax.set_title(\"Frequency Response\")\n",
    "    ax.grid(which='both', axis='both')\n",
    "\n",
    "    # get the phase of the frequency components\n",
    "    y = np.degrees(np.angle(spectrum))[:spectrum.size//2]\n",
    "\n",
    "    # plot the phase response\n",
    "    ax = axes[1]\n",
    "    ax.plot(x, y, 'r')\n",
    "    # ax.set_xscale('log')\n",
    "    ax.set_xlabel('Normalized frequency')\n",
    "    ax.set_ylabel('Phase (deg)')\n",
    "    ax.set_title(\"Phase Response\")\n",
    "    ax.grid(which='both', axis='both')\n",
    "\n",
    "    plt.show()"
   ]
  }
 ],
 "metadata": {
  "kernelspec": {
   "display_name": "Python 3 (ipykernel)",
   "language": "python",
   "name": "python3"
  },
  "language_info": {
   "codemirror_mode": {
    "name": "ipython",
    "version": 3
   },
   "file_extension": ".py",
   "mimetype": "text/x-python",
   "name": "python",
   "nbconvert_exporter": "python",
   "pygments_lexer": "ipython3",
   "version": "3.12.4"
  }
 },
 "nbformat": 4,
 "nbformat_minor": 5
}
